{
 "cells": [
  {
   "cell_type": "markdown",
   "id": "73a6d289-0ecc-4b83-adc2-69ae16d4b581",
   "metadata": {},
   "source": [
    "How many seconds are in an hour?"
   ]
  },
  {
   "cell_type": "code",
   "execution_count": 7,
   "id": "6db00770-79da-44de-8c39-d56d5b59306b",
   "metadata": {},
   "outputs": [
    {
     "name": "stdout",
     "output_type": "stream",
     "text": [
      "There are 3600 seconds in an hour.\n"
     ]
    }
   ],
   "source": [
    "seconds_in_minute = 60\n",
    "minutes_in_hour = 60\n",
    "\n",
    "seconds_in_hour = seconds_in_minute * minutes_in_hour\n",
    "print(\"There are\", seconds_in_hour, \"seconds in an hour.\")\n"
   ]
  },
  {
   "cell_type": "markdown",
   "id": "c94fbfd0-7893-4c72-9b00-d03e84d8327a",
   "metadata": {},
   "source": [
    "Assign the result from the previous task (seconds in an hour) to a variable called seconds_per_hour."
   ]
  },
  {
   "cell_type": "code",
   "execution_count": 5,
   "id": "edd06cd8-9375-4fc7-9e13-2f20a478cdb0",
   "metadata": {},
   "outputs": [
    {
     "name": "stdout",
     "output_type": "stream",
     "text": [
      "Seconds per hour: 3600\n"
     ]
    }
   ],
   "source": [
    "seconds_in_minute = 60\n",
    "minutes_in_hour = 60\n",
    "seconds_per_hour = seconds_in_minute * minutes_in_hour\n",
    "print(\"Seconds per hour:\", seconds_per_hour)"
   ]
  },
  {
   "cell_type": "markdown",
   "id": "8db1d5ae-d735-4a7a-b7d8-18b450e695a7",
   "metadata": {},
   "source": [
    "How many seconds are in a day?"
   ]
  },
  {
   "cell_type": "code",
   "execution_count": 6,
   "id": "338b8311-c0a4-4806-866f-172d8d12838f",
   "metadata": {},
   "outputs": [
    {
     "name": "stdout",
     "output_type": "stream",
     "text": [
      "Seconds per day: 86400\n"
     ]
    }
   ],
   "source": [
    "hours_in_day = 24\n",
    "seconds_per_hour = 3600\n",
    "\n",
    "seconds_per_day = hours_in_day * seconds_per_hour\n",
    "print(\"Seconds per day:\", seconds_per_day)\n"
   ]
  },
  {
   "cell_type": "markdown",
   "id": "05ee62d8-f99c-469d-aeae-7b9e6619e475",
   "metadata": {},
   "source": [
    "Calculate seconds per day again, but this time save the result in a variable called seconds_per_day."
   ]
  },
  {
   "cell_type": "code",
   "execution_count": 8,
   "id": "3d66f372-43ff-424e-b0d8-c7ce1210fcfa",
   "metadata": {},
   "outputs": [
    {
     "name": "stdout",
     "output_type": "stream",
     "text": [
      "Seconds per day: 86400\n"
     ]
    }
   ],
   "source": [
    "hours_in_day = 24\n",
    "seconds_per_hour = 3600\n",
    "\n",
    "seconds_per_day = hours_in_day * seconds_per_hour\n",
    "print(\"Seconds per day:\", seconds_per_day)\n"
   ]
  },
  {
   "cell_type": "markdown",
   "id": "e6bc2354-332c-413d-a0aa-382aecf9b139",
   "metadata": {},
   "source": [
    "Divide seconds_per_day by seconds_per_hour. Use floating-point (/) division."
   ]
  },
  {
   "cell_type": "code",
   "execution_count": 9,
   "id": "107a4e7f-9632-44e7-88b8-a1e35f6e78a4",
   "metadata": {},
   "outputs": [
    {
     "name": "stdout",
     "output_type": "stream",
     "text": [
      "Division result (seconds_per_day / seconds_per_hour): 24.0\n"
     ]
    }
   ],
   "source": [
    "seconds_per_day = 86400  \n",
    "seconds_per_hour = 3600\n",
    "\n",
    "division_result = seconds_per_day / seconds_per_hour\n",
    "print(\"Division result (seconds_per_day / seconds_per_hour):\", division_result)\n"
   ]
  },
  {
   "cell_type": "markdown",
   "id": "954f1e66-6360-4d3b-8ba2-b9b02ad57c03",
   "metadata": {},
   "source": [
    "Divide seconds_per_day by seconds_per_hour, using integer (//) division. Did this number agree with the floating-point value from the previous question, aside from the final .0?"
   ]
  },
  {
   "cell_type": "code",
   "execution_count": 10,
   "id": "33624382-fa29-49e8-9328-67c3e0ad744a",
   "metadata": {},
   "outputs": [
    {
     "name": "stdout",
     "output_type": "stream",
     "text": [
      "Integer division result (seconds_per_day // seconds_per_hour): 24\n"
     ]
    }
   ],
   "source": [
    "seconds_per_day = 86400  \n",
    "seconds_per_hour = 3600\n",
    "\n",
    "integer_division_result = seconds_per_day // seconds_per_hour\n",
    "print(\"Integer division result (seconds_per_day // seconds_per_hour):\", integer_division_result)\n"
   ]
  }
 ],
 "metadata": {
  "kernelspec": {
   "display_name": "Python 3 (ipykernel)",
   "language": "python",
   "name": "python3"
  },
  "language_info": {
   "codemirror_mode": {
    "name": "ipython",
    "version": 3
   },
   "file_extension": ".py",
   "mimetype": "text/x-python",
   "name": "python",
   "nbconvert_exporter": "python",
   "pygments_lexer": "ipython3",
   "version": "3.11.7"
  }
 },
 "nbformat": 4,
 "nbformat_minor": 5
}
